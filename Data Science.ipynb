{
  "metadata": {
    "kernelspec": {
      "name": "python",
      "display_name": "Python (Pyodide)",
      "language": "python"
    },
    "language_info": {
      "codemirror_mode": {
        "name": "python",
        "version": 3
      },
      "file_extension": ".py",
      "mimetype": "text/x-python",
      "name": "python",
      "nbconvert_exporter": "python",
      "pygments_lexer": "ipython3",
      "version": "3.8"
    }
  },
  "nbformat_minor": 4,
  "nbformat": 4,
  "cells": [
    {
      "cell_type": "markdown",
      "source": "Exercise 2 - Create a markdown cell with the title of the notebook.(1 pts)\n\nIBM--Data Science\n",
      "metadata": {}
    },
    {
      "cell_type": "markdown",
      "source": "Exercise 3 - Create a markdown cell for an introduction. (1 pts)\n\nIn this notebook, Data Science Tools and Ecosystem are summarized.\n\nObjectives:\r\n\r\nIdentify commonly used programming languages in the field of Data Science.\r\nEnumerate widely adopted libraries utilized by Data Scientists.\r\nProvide insights on various tools utilized in the practice of Data Science.",
      "metadata": {}
    },
    {
      "cell_type": "markdown",
      "source": "Exercise 4 - Create a markdown cell to list data science languages. (3 pts)\n\nSome of the popular languages that Data Scientists use are:\n\nJulia.\nScala.\nC/C++.\nJavaScript.\nPython.\nR.\nSQL.\nJava.\n",
      "metadata": {}
    },
    {
      "cell_type": "markdown",
      "source": "Exercise 5 - Create a markdown cell to list data science libraries. (3 pts)\n\nSome of the commonly used libraries used by Data Scientists include:\n\nTensorFlow.\nNumPy.\nSciPy.\nPandas.\nMatplotlib.\nKeras.\nSciKit-Learn.\nPyTorch.\nScrapy.\nBeautifulSoup.\nLightGBM.\nELI5.\nTheano.\nNuPIC.\nRamp.\nPipenv.\nBob.\nPyBrain.\nCaffe2.\nChainer.",
      "metadata": {}
    },
    {
      "cell_type": "markdown",
      "source": "Exercise 6 - Create a markdown cell with a table of Data Science tools. (3 pts)\n\nData Science Tools:\n\nData Science Tools\t\t\nSAS. It is one of those data science tools which are specifically designed for statistical operation\t\t\nApache Spark\t\t\nBigML",
      "metadata": {}
    },
    {
      "cell_type": "code",
      "source": "# Exercise 7 - Create a markdown cell introducing arithmetic expression examples. (1 pt)\n\n# Arithmetic operations\ncode = compile(\"58 + 4\", \"<string>\", \"eval\")\neval(code)\n# Result: 62",
      "metadata": {
        "trusted": true
      },
      "outputs": [
        {
          "execution_count": 14,
          "output_type": "execute_result",
          "data": {
            "text/plain": "62"
          },
          "metadata": {}
        }
      ],
      "execution_count": 14
    },
    {
      "cell_type": "code",
      "source": "code1 = compile(\"(51 + 70) * 2\", \"<string>\", \"eval\")\neval(code1)\n# Result: 242",
      "metadata": {
        "trusted": true
      },
      "outputs": [
        {
          "execution_count": 15,
          "output_type": "execute_result",
          "data": {
            "text/plain": "242"
          },
          "metadata": {}
        }
      ],
      "execution_count": 15
    },
    {
      "cell_type": "code",
      "source": "import math\n# Volume of a sphere\ncode2 = compile(\"7 / 3 * math.pi * math.pow(2, 6)\", \"<string>\", \"eval\")\neval(code2)\n# Result: 469.1445029360758",
      "metadata": {
        "trusted": true
      },
      "outputs": [
        {
          "execution_count": 16,
          "output_type": "execute_result",
          "data": {
            "text/plain": "469.1445029360758"
          },
          "metadata": {}
        }
      ],
      "execution_count": 16
    },
    {
      "cell_type": "code",
      "source": "# Exercise 8 - Create a code cell to multiply and add numbers.(2 pts)\n\n(3*4)+5\n# Result: 17",
      "metadata": {
        "trusted": true
      },
      "outputs": [
        {
          "execution_count": 11,
          "output_type": "execute_result",
          "data": {
            "text/plain": "17"
          },
          "metadata": {}
        }
      ],
      "execution_count": 11
    },
    {
      "cell_type": "code",
      "source": "# Exercise 9 - Create a code cell to convert minutes to hours. (2 pts)\n\ndays = 0\nhours = 0\nmins = 0\n\ntime = 200\n#days = time / 1440\nleftover_minutes = time % 1440\nhours = leftover_minutes / 60\n#mins = time - (days*1440) - (hours*60)\nprint(str(days) + \" days, \" + str(hours) + \" hours, \" + str(mins) +  \" mins. \")\n\n# Result: 3.3333333333333335 hours",
      "metadata": {
        "trusted": true
      },
      "outputs": [
        {
          "name": "stdout",
          "text": "0 days, 3.3333333333333335 hours, 0 mins. \n",
          "output_type": "stream"
        }
      ],
      "execution_count": 12
    },
    {
      "cell_type": "markdown",
      "source": "Exercise 10 -Insert a markdown cell to list Objectives. (3 pts)\n\nObjectives:\n\nIdentify commonly used programming languages in the field of Data Science.\nEnumerate widely adopted libraries utilized by Data Scientists.\nProvide insights on various tools utilized in the practice of Data Science.",
      "metadata": {}
    },
    {
      "cell_type": "markdown",
      "source": "Exercise 11 - Create a markdown cell to indicate the Author’s name. (2 pts)\n\nMalik Faiz ur Rehman",
      "metadata": {}
    },
    {
      "cell_type": "code",
      "source": "",
      "metadata": {
        "trusted": true
      },
      "outputs": [],
      "execution_count": null
    }
  ]
}